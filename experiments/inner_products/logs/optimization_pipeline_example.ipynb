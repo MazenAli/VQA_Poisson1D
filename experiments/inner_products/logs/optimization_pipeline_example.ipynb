{
 "cells": [
  {
   "cell_type": "markdown",
   "id": "a448ea34",
   "metadata": {},
   "source": [
    "# Import"
   ]
  },
  {
   "cell_type": "code",
   "execution_count": 1,
   "id": "bc0b915e",
   "metadata": {
    "scrolled": false
   },
   "outputs": [],
   "source": [
    "import numpy as np\n",
    "import pandas as pd\n",
    "\n",
    "import matplotlib.pyplot as plt\n",
    "\n",
    "from qiskit_optimization.problems import QuadraticProgram\n",
    "from qiskit_optimization.algorithms import CplexOptimizer\n",
    "\n",
    "from qiskit_optimization.algorithms import MinimumEigenOptimizer\n",
    "\n",
    "from qiskit_optimization.converters import QuadraticProgramToQubo\n",
    "\n",
    "from qiskit.visualization import plot_circuit_layout, plot_gate_map\n",
    "import mapomatic as mm\n",
    "\n",
    "from qiskit.utils import QuantumInstance\n",
    "from qiskit import IBMQ, transpile\n",
    "\n",
    "from qiskit.algorithms import QAOA\n",
    "from qiskit.algorithms.optimizers import SPSA\n",
    "\n",
    "import pathlib\n",
    "import sys\n",
    "\n",
    "import time"
   ]
  },
  {
   "cell_type": "markdown",
   "id": "2b6beb17",
   "metadata": {},
   "source": [
    "# Load the problem"
   ]
  },
  {
   "cell_type": "code",
   "execution_count": 2,
   "id": "70d48167",
   "metadata": {},
   "outputs": [],
   "source": [
    "# Define routines to create QUBO\n",
    "\n",
    "def Generate_QuboMatrixMarkowitz(covariances, mu, risk=None,cost=None,budget=None,penalty=None):\n",
    "    #Input: covariances = Kovarianzmatrix\n",
    "    # mu = Erwartungswertvektor\n",
    "    # risk = Risikofaktor\n",
    "    # cost = Vektor mit Kosten für einzelne Assets/Assetklassen\n",
    "    # budget = verfügbares Budget zum Kaufen der Assets\n",
    "    # penalty = Strafterm für die Nebenbedingung\n",
    "    #Output: Qubomatrix für Markowitzproblem mit Budgetnebenbedingung, offset Konstante\n",
    "    num_assets=len(mu)\n",
    "    test=None\n",
    "    if type(risk)== type(test):\n",
    "        risk=0.5\n",
    "    if type(cost)== type(test):\n",
    "        cost=np.ones(num_assets)\n",
    "    if type(budget)== type(test):\n",
    "        budget=num_assets // 2 \n",
    "    if type(penalty)== type(test):\n",
    "        penalty=num_assets\n",
    "    QuboMatrix=risk*(2*np.triu(covariances)-np.diag(np.diag(covariances)))-np.diag(mu)-2*budget*penalty*np.diag(cost)+penalty*(2*np.triu(np.outer(cost,cost))-np.diag(cost**2))\n",
    "    Constant=penalty*budget**2\n",
    "    return QuboMatrix, Constant\n",
    "\n",
    "def Generate_QPMarkowitz(matrix, constant):\n",
    "    #Input: matrix = QuboMatrix\n",
    "    # constant = offset Konstante\n",
    "    # Output: Quadratic Program für Qiskit. Achtung: Die minimize funktion macht bei dem quadratischen Term immer ein 1/2 davor!\n",
    "    num_assets=len(matrix)\n",
    "    mod = QuadraticProgram(\"Markowitz\")\n",
    "    mod.binary_var_dict(num_assets, 'x', '{}')\n",
    "    mod.minimize(constant=cons, quadratic=matrix)\n",
    "#     print(mod.export_as_lp_string())\n",
    "    return mod"
   ]
  },
  {
   "cell_type": "code",
   "execution_count": 3,
   "id": "1c66b904",
   "metadata": {},
   "outputs": [
    {
     "name": "stderr",
     "output_type": "stream",
     "text": [
      "C:\\Users\\koppe\\anaconda3\\envs\\qiskit__new\\lib\\site-packages\\pandas\\core\\indexes\\base.py:5055: FutureWarning: Using a non-tuple sequence for multidimensional indexing is deprecated; use `arr[tuple(seq)]` instead of `arr[seq]`. In the future this will be interpreted as an array index, `arr[np.array(seq)]`, which will result either in an error or a different result.\n",
      "  result = getitem(key)\n"
     ]
    }
   ],
   "source": [
    "### import data ###\n",
    "o_assets = pd.read_excel(r'Anonymisiertes_PF_Paper.xlsx',\n",
    "                        sheet_name='Assetklassen', \n",
    "                        skiprows = 2)\n",
    "o_correlations = pd.read_excel(r'Anonymisiertes_PF_Paper.xlsx', \n",
    "                             sheet_name='Korrelationsparameter', \n",
    "                             skiprows = 2,\n",
    "                             index_col = 0)\n",
    "\n",
    "### obtain original variables ###\n",
    "o_num_assets = len(o_assets)\n",
    "o_mu = np.array(o_assets.mu)\n",
    "o_sigma = np.array(o_assets.sigma)\n",
    "o_covariances = np.matmul(np.matmul(np.diag(o_sigma), o_correlations), np.diag(o_sigma))\n",
    "\n",
    "### set replication factor ###\n",
    "factor_synth = 1                       # factor of synthetization\n",
    "factor_classes = 6                     # number of assets (1 <= factor_classes <= len(assets))\n",
    "\n",
    "### obtain temp covariances\n",
    "o_covariances_tmp = o_covariances.loc[:factor_classes-1, :factor_classes-1]\n",
    "\n",
    "### obtain synthetized variables ###factor_classes\n",
    "assets = o_assets.drop(o_assets.index[[range(factor_classes, o_num_assets)]])\n",
    "num_assets = len(assets)\n",
    "mu = np.repeat(o_mu[0:num_assets], factor_synth)\n",
    "sigma = np.repeat(o_sigma[0:num_assets], factor_synth)\n",
    "\n",
    "repelem  = lambda a, x, y: a.repeat(x, 0).repeat(y, 1)\n",
    "covariances = repelem(o_covariances_tmp.values, factor_synth, factor_synth)\n",
    "\n",
    "\n",
    "### set further variables ###\n",
    "q = 1                                    # set risk factor\n",
    "budget = num_assets // 2                 # set budget\n",
    "penalty = num_assets                     # set parameter to scale the budget penalty term\n",
    "\n",
    "M,cons=Generate_QuboMatrixMarkowitz(covariances, mu, q, None, budget, penalty)\n",
    "qubo=Generate_QPMarkowitz(M,cons)"
   ]
  },
  {
   "cell_type": "markdown",
   "id": "8abd6a49",
   "metadata": {},
   "source": [
    "# Classical solution with CplexOptimizer"
   ]
  },
  {
   "cell_type": "code",
   "execution_count": 4,
   "id": "9386a1bc",
   "metadata": {
    "scrolled": false
   },
   "outputs": [],
   "source": [
    "result = CplexOptimizer().solve(qubo)"
   ]
  },
  {
   "cell_type": "code",
   "execution_count": 5,
   "id": "eca0b8bc",
   "metadata": {},
   "outputs": [
    {
     "name": "stdout",
     "output_type": "stream",
     "text": [
      "101001\n"
     ]
    }
   ],
   "source": [
    "res_exact = ''\n",
    "for ele in result.x:\n",
    "    res_exact += str(int(ele))\n",
    "print(res_exact)"
   ]
  },
  {
   "cell_type": "markdown",
   "id": "a53b8dd9",
   "metadata": {},
   "source": [
    "# QAOA with MinimumEigenOptimizer"
   ]
  },
  {
   "cell_type": "markdown",
   "id": "4b5dab48",
   "metadata": {},
   "source": [
    "### Optimize circuit realization"
   ]
  },
  {
   "cell_type": "code",
   "execution_count": 6,
   "id": "3a408db6",
   "metadata": {},
   "outputs": [],
   "source": [
    "# Load IBMQ acount and choose backend\n",
    "with open('C:\\\\Users\\koppe\\Desktop\\ibmq_germany_ma.txt', 'r') as file:\n",
    "    token = file.read().rstrip()\n",
    "APITOKEN = token\n",
    "APIURL = 'https://auth.de.quantum-computing.ibm.com/api'\n",
    "IBMQ.enable_account(APITOKEN, APIURL)\n",
    "provider = IBMQ.get_provider(hub='fraunhofer-de', group='fhg-all', project='ticket')\n",
    "backend = provider.get_backend('ibmq_ehningen')\n",
    "backend_name = backend.name()\n",
    "\n",
    "# # Use devices outside of Germany (consider max number of shots!)\n",
    "# with open('C:\\\\Users\\koppe\\Desktop\\ibmq_states.txt', 'r') as file:\n",
    "#     token = file.read().rstrip()\n",
    "# IBMQ.save_account(token, hub='ibm-q-fraunhofer', group='fhg-all', project='ticket', overwrite = True)\n",
    "# provider = IBMQ.load_account()\n",
    "# # provider = IBMQ.get_provider(hub='ibm-q-fraunhofer', group='fhg-all', project='ticket')\n",
    "# backend = provider.get_backend('ibmq_brooklyn')"
   ]
  },
  {
   "cell_type": "code",
   "execution_count": 7,
   "id": "77bfdae8",
   "metadata": {},
   "outputs": [],
   "source": [
    "# Get the Hamiltonian\n",
    "ham_prob, offset = qubo.to_ising()\n",
    "# print(ham_prob)"
   ]
  },
  {
   "cell_type": "code",
   "execution_count": 8,
   "id": "c8edcb65",
   "metadata": {},
   "outputs": [],
   "source": [
    "# Get the initial circuit for the QAOA\n",
    "# Generally make sure that the number of shots does not exceed the allowed number of shots \n",
    "# according to the respective backend (Ehningen 100000)\n",
    "seed_ini = np.random.randint(1000)\n",
    "qi_ini = QuantumInstance(\n",
    "    backend = backend,\n",
    "    shots = 1024,\n",
    "    seed_transpiler = seed_ini\n",
    "    )\n",
    "\n",
    "qaoa_ini = QAOA(\n",
    "    quantum_instance = qi_ini,\n",
    "    reps=1,\n",
    "    optimizer=SPSA(100) \n",
    "    )"
   ]
  },
  {
   "cell_type": "code",
   "execution_count": 9,
   "id": "899676e3",
   "metadata": {
    "scrolled": false
   },
   "outputs": [
    {
     "name": "stdout",
     "output_type": "stream",
     "text": [
      "initial depth:  84\n",
      "initial cx count:  84\n"
     ]
    }
   ],
   "source": [
    "# Extract the initial variational form and get its characteristics\n",
    "qaoa_qc_ini = qaoa_ini.construct_circuit([1,1],ham_prob)[0]\n",
    "qaoa_qc_ini_trans = transpile(qaoa_qc_ini, backend=backend)\n",
    "#display(qaoa_qc_ini_trans.draw('mpl'))\n",
    "print('initial depth: ', qaoa_qc_ini_trans.depth())\n",
    "print('initial cx count: ', qaoa_qc_ini_trans.count_ops()['cx'])"
   ]
  },
  {
   "cell_type": "code",
   "execution_count": 10,
   "id": "384a6cb3",
   "metadata": {},
   "outputs": [],
   "source": [
    "# Define the callback function for transpiler\n",
    "def callback_func(**kwargs):\n",
    "    property_set = kwargs['property_set']\n",
    "    property_list.append(property_set)"
   ]
  },
  {
   "cell_type": "code",
   "execution_count": 11,
   "id": "d669ef3d",
   "metadata": {},
   "outputs": [
    {
     "name": "stdout",
     "output_type": "stream",
     "text": [
      "14.7172 s needed for repeated transpilation\n"
     ]
    }
   ],
   "source": [
    "# Start repeated transpilation for finding the optimizing the circuit realization\n",
    "rep_trans = 50\n",
    "\n",
    "seeds = list(range(rep_trans))\n",
    "min_cx_count = 1e99\n",
    "qaoa_qc_inter = None\n",
    "\n",
    "cx_count_list = []\n",
    "\n",
    "# Start time\n",
    "start_time = time.time()\n",
    "\n",
    "for kk in range(rep_trans):\n",
    "    property_list = []\n",
    "    qaoa_qc_trans = transpile(qaoa_qc_ini, backend=backend,\n",
    "                              seed_transpiler=seeds[kk],\n",
    "                              optimization_level= 3,\n",
    "                              callback = callback_func)\n",
    "     \n",
    "    temp_cx_count = qaoa_qc_trans.count_ops()['cx']\n",
    "    cx_count_list.append(temp_cx_count)\n",
    "    if temp_cx_count < min_cx_count:\n",
    "        min_cx_count = temp_cx_count\n",
    "        qaoa_qc_inter = qaoa_qc_trans\n",
    "        layout = property_list\n",
    "        \n",
    "# End time\n",
    "end_time = time.time()\n",
    "\n",
    "print(round(end_time-start_time,4),'s needed for repeated transpilation')"
   ]
  },
  {
   "cell_type": "code",
   "execution_count": 12,
   "id": "a6eaab34",
   "metadata": {
    "scrolled": true
   },
   "outputs": [
    {
     "name": "stdout",
     "output_type": "stream",
     "text": [
      "circuit depth:  77\n",
      "cx count:  45\n"
     ]
    }
   ],
   "source": [
    "# Print optimum realization from repeated transpiling\n",
    "# display(qaoa_qc_inter.draw('mpl', fold=False))\n",
    "print('circuit depth: ', qaoa_qc_inter.depth())\n",
    "print('cx count: ', min_cx_count)"
   ]
  },
  {
   "cell_type": "code",
   "execution_count": 13,
   "id": "0282cc02",
   "metadata": {},
   "outputs": [
    {
     "data": {
      "image/png": "[encoded data removed]",
      "text/plain": [
       "<Figure size 432x288 with 1 Axes>"
      ]
     },
     "metadata": {
      "needs_background": "light"
     },
     "output_type": "display_data"
    }
   ],
   "source": [
    "# Plot the distribution of found cx-gate counts as histogram\n",
    "plt.hist(cx_count_list, bins=100, color='black')\n",
    "plt.xlabel('cx gates')\n",
    "plt.ylabel('counts');\n",
    "plt.savefig('histogram')"
   ]
  },
  {
   "cell_type": "code",
   "execution_count": 14,
   "id": "ccbae9f1",
   "metadata": {},
   "outputs": [
    {
     "name": "stderr",
     "output_type": "stream",
     "text": [
      "C:\\Users\\koppe\\AppData\\Local\\Temp\\ipykernel_18048\\3157793263.py:11: DeprecationWarning: Back-references to from Bit instances to their containing Registers have been deprecated. Instead, inspect Registers to find their contained Bits.\n",
      "  best_layout_help.append([qubit[0].index,qubit[1]])\n"
     ]
    },
    {
     "data": {
      "text/plain": [
       "[24, 25, 23, 26, 22, 19]"
      ]
     },
     "execution_count": 14,
     "metadata": {},
     "output_type": "execute_result"
    }
   ],
   "source": [
    "# Number of qubits\n",
    "numb_qu = factor_classes*factor_synth\n",
    "\n",
    "# Extracting the qubit mapping used in the best circuit from above\n",
    "best_layout_dict = layout[len(layout)-1].get('layout').get_virtual_bits()\n",
    "best_layout_help = []\n",
    "\n",
    "# Get the sublist with virtual and respective physical qubit as sublist entries\n",
    "for counter,qubit in enumerate(best_layout_dict.items()):\n",
    "    if counter < numb_qu:\n",
    "          best_layout_help.append([qubit[0].index,qubit[1]])\n",
    "\n",
    "# Ordering according to the virtual qubits\n",
    "best_layout_tr = []\n",
    "for ele in sorted(best_layout_help, key=lambda x: x[0]):\n",
    "    best_layout_tr.append(ele[1])\n",
    "best_layout_tr"
   ]
  },
  {
   "cell_type": "code",
   "execution_count": 15,
   "id": "feb976a6",
   "metadata": {},
   "outputs": [
    {
     "data": {
      "image/png": "[encoded data removed]",
      "text/plain": [
       "<Figure size 360x360 with 1 Axes>"
      ]
     },
     "metadata": {},
     "output_type": "display_data"
    },
    {
     "data": {
      "image/png": "[encoded data removed]",
      "text/plain": [
       "<Figure size 360x360 with 1 Axes>"
      ]
     },
     "metadata": {},
     "output_type": "display_data"
    }
   ],
   "source": [
    "# Show mapping employed at the moment\n",
    "display(plot_gate_map(backend))\n",
    "display(plot_circuit_layout(qaoa_qc_inter,backend,view='virtual'))"
   ]
  },
  {
   "cell_type": "code",
   "execution_count": 17,
   "id": "846af7a0",
   "metadata": {},
   "outputs": [
    {
     "data": {
      "text/plain": [
       "[7, 10, 14, 13, 12, 15]"
      ]
     },
     "execution_count": 17,
     "metadata": {},
     "output_type": "execute_result"
    }
   ],
   "source": [
    "# Reduce the circuit using mapomatic\n",
    "small_circ = mm.deflate_circuit(qaoa_qc_inter)\n",
    "# display(small_circ.draw('mpl'))\n",
    "\n",
    "# Find the best mapping regarding error rates\n",
    "layouts = mm.matching_layouts(small_circ, backend)\n",
    "scores = mm.evaluate_layouts(small_circ, layouts, backend)\n",
    "best_layout_mm = scores[0][0]\n",
    "best_layout_mm"
   ]
  },
  {
   "cell_type": "code",
   "execution_count": 18,
   "id": "5e7a2803",
   "metadata": {},
   "outputs": [
    {
     "data": {
      "text/plain": [
       "array([13, 12, 14, 15, 10,  7])"
      ]
     },
     "execution_count": 18,
     "metadata": {},
     "output_type": "execute_result"
    }
   ],
   "source": [
    "# Translating best layout from mm to original qubit mapping setup\n",
    "help_ind = np.argsort(best_layout_tr)\n",
    "best_layout =  np.arange(0,numb_qu,1)\n",
    "for lll in range(len(best_layout_tr)):\n",
    "    best_layout[help_ind[lll]] = best_layout_mm[lll]\n",
    "best_layout"
   ]
  },
  {
   "cell_type": "code",
   "execution_count": 19,
   "id": "6658f5c4",
   "metadata": {},
   "outputs": [
    {
     "name": "stdout",
     "output_type": "stream",
     "text": [
      "8.1052 s needed for repeated transpilation\n"
     ]
    }
   ],
   "source": [
    "# Repeat transpilation again with new best initial layout\n",
    "min_cx_count = 1e99\n",
    "qc_best = None\n",
    "best_seed = None\n",
    "\n",
    "# Start time\n",
    "start_time = time.time()\n",
    "\n",
    "for kk in range(rep_trans):\n",
    "    property_list = []\n",
    "    qaoa_qc_trans_cu = transpile(qaoa_qc_ini, backend=backend,\n",
    "                              initial_layout=best_layout,\n",
    "                              seed_transpiler=seeds[kk],\n",
    "                              optimization_level= 3)\n",
    "     \n",
    "    temp_cx_count = qaoa_qc_trans_cu.count_ops()['cx']\n",
    "    if temp_cx_count < min_cx_count:\n",
    "        min_cx_count = temp_cx_count\n",
    "        best_seed = seeds[kk]\n",
    "        qc_best = qaoa_qc_trans_cu\n",
    "        \n",
    "# End time\n",
    "end_time = time.time()\n",
    "\n",
    "print(round(end_time-start_time,4),'s needed for repeated transpilation')"
   ]
  },
  {
   "cell_type": "code",
   "execution_count": 20,
   "id": "69ca5ba9",
   "metadata": {
    "scrolled": false
   },
   "outputs": [
    {
     "name": "stdout",
     "output_type": "stream",
     "text": [
      "depth:  75\n",
      "cx count:  43\n"
     ]
    }
   ],
   "source": [
    "# Checking whether cx count is identical with new layout\n",
    "# Sometimes it is slightly better or worse, I do not understand why. \n",
    "# The reconstruction of the qubit mapping works fine to me\n",
    "\n",
    "# Print optimum realization\n",
    "# display(qc_best.draw('mpl'))\n",
    "print('depth: ', qc_best.depth())\n",
    "print('cx count: ', min_cx_count)"
   ]
  },
  {
   "cell_type": "code",
   "execution_count": 21,
   "id": "9ed1df47",
   "metadata": {},
   "outputs": [
    {
     "data": {
      "image/png": "[encoded data removed]",
      "text/plain": [
       "<Figure size 360x360 with 1 Axes>"
      ]
     },
     "metadata": {},
     "output_type": "display_data"
    },
    {
     "data": {
      "image/png": "[encoded data removed]",
      "text/plain": [
       "<Figure size 360x360 with 1 Axes>"
      ]
     },
     "metadata": {},
     "output_type": "display_data"
    }
   ],
   "source": [
    "# Show new mapping according to mm\n",
    "display(plot_gate_map(backend))\n",
    "display(plot_circuit_layout(qc_best,backend,view='virtual'))"
   ]
  },
  {
   "cell_type": "code",
   "execution_count": null,
   "id": "46724cbb",
   "metadata": {},
   "outputs": [],
   "source": [
    "# Initializing QAOA with the best circuit\n",
    "qi = QuantumInstance(\n",
    "    backend = backend,\n",
    "    shots = 100000,\n",
    "    seed_transpiler = best_seed,\n",
    "    initial_layout = best_layout,\n",
    "    optimization_level= 3\n",
    "    )\n",
    "\n",
    "qaoa = QAOA(\n",
    "    quantum_instance = qi,\n",
    "    reps=1,\n",
    "    optimizer=SPSA(100) \n",
    "    )"
   ]
  },
  {
   "cell_type": "code",
   "execution_count": null,
   "id": "0bc0c226",
   "metadata": {},
   "outputs": [],
   "source": [
    "result_qaoa = MinimumEigenOptimizer(qaoa).solve(qubo)"
   ]
  },
  {
   "cell_type": "code",
   "execution_count": null,
   "id": "85499de5",
   "metadata": {},
   "outputs": [],
   "source": [
    "qaoa_res = ''\n",
    "for ll in result_qaoa.x:\n",
    "    qaoa_res += str(int(ll))"
   ]
  },
  {
   "cell_type": "code",
   "execution_count": null,
   "id": "0a0a1979",
   "metadata": {},
   "outputs": [],
   "source": [
    "print('classical result:\\t', res_exact)\n",
    "print('QAOA result:\\t\\t', qaoa_res)"
   ]
  },
  {
   "cell_type": "code",
   "execution_count": null,
   "id": "40fe17b0",
   "metadata": {},
   "outputs": [],
   "source": [
    "# Evaluated samples\n",
    "av_energy = 0\n",
    "prob_ground = 0\n",
    "for ele in sorted(result_qaoa.samples, key=lambda sample: sample.probability)[::-1]:\n",
    "    helper = ''\n",
    "    for kk in ele.x:\n",
    "        helper += str(int(kk))    \n",
    "\n",
    "    av_energy += ele.probability*ele.fval\n",
    "\n",
    "    if helper == res_exact:\n",
    "        prob_ground = ele.probability\n",
    "        \n",
    "rel_opt = result_qaoa.fval\n",
    "rel_opt_mes = av_energy\n",
    "rel_search_space = len(result_qaoa.samples)/2**numb_qu       \n",
    "        \n",
    "print(f'{qaoa_res}\\t {round(rel_opt,2)}\\t\\t {round(rel_opt_mes,2)}\\t\\t {round(prob_ground,6)}\\t\\t {round(rel_search_space,3)}')"
   ]
  },
  {
   "cell_type": "code",
   "execution_count": null,
   "id": "9a6d2f24",
   "metadata": {},
   "outputs": [],
   "source": [
    "# print(result_qaoa.min_eigen_solver_result)"
   ]
  },
  {
   "cell_type": "code",
   "execution_count": null,
   "id": "6218ad70",
   "metadata": {},
   "outputs": [],
   "source": []
  }
 ],
 "metadata": {
  "kernelspec": {
   "display_name": "Python 3 (ipykernel)",
   "language": "python",
   "name": "python3"
  },
  "language_info": {
   "codemirror_mode": {
    "name": "ipython",
    "version": 3
   },
   "file_extension": ".py",
   "mimetype": "text/x-python",
   "name": "python",
   "nbconvert_exporter": "python",
   "pygments_lexer": "ipython3",
   "version": "3.9.7"
  }
 },
 "nbformat": 4,
 "nbformat_minor": 5
}
